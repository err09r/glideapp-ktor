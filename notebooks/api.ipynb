{
 "cells": [
  {
   "cell_type": "markdown",
   "source": [
    "# GlideApp data analysis\n",
    "Application data will be analyzed in the following areas:\n",
    "1) Rides\n",
    "2) Transactions\n",
    "3) User\n",
    "4) Vehicles\n",
    "5) Zones"
   ],
   "metadata": {
    "collapsed": false
   }
  },
  {
   "cell_type": "code",
   "execution_count": 4,
   "outputs": [],
   "source": [
    "import com.apsl.glideapp.features.ride.*\n",
    "import com.apsl.glideapp.features.ride.route.*\n",
    "import com.apsl.glideapp.database.*\n",
    "import kotlinx.coroutines.runBlocking\n",
    "\n",
    "DatabaseFactory.init(\n",
    "    jdbcUrl = \"jdbc:postgresql://localhost:5432/postgres?user=postgres&password=postgres\",\n",
    "    driverClassName = \"org.postgresql.Driver\"\n",
    ")\n",
    "\n",
    "val rideRepository = RideRepository(\n",
    "    rideDao = RideDaoImpl(),\n",
    "    rideCoordinatesDao = RideCoordinatesDaoImpl()\n",
    ")\n",
    "\n",
    "val rides: List<Ride> = runBlocking { rideRepository.getAllRides() }"
   ],
   "metadata": {
    "collapsed": false,
    "ExecuteTime": {
     "end_time": "2023-11-10T21:10:01.389426500Z",
     "start_time": "2023-11-10T21:10:00.218686800Z"
    }
   }
  },
  {
   "cell_type": "code",
   "execution_count": null,
   "outputs": [
    {
     "data": {
      "text/html": "   <div id=\"xq5ZJb\"></div>\n   <script type=\"text/javascript\" data-lets-plot-script=\"library\">\n       if(!window.letsPlotCallQueue) {\n           window.letsPlotCallQueue = [];\n       }; \n       window.letsPlotCall = function(f) {\n           window.letsPlotCallQueue.push(f);\n       };\n       (function() {\n           var script = document.createElement(\"script\");\n           script.type = \"text/javascript\";\n           script.src = \"https://cdn.jsdelivr.net/gh/JetBrains/lets-plot@v4.1.0/js-package/distr/lets-plot.min.js\";\n           script.onload = function() {\n               window.letsPlotCall = function(f) {f();};\n               window.letsPlotCallQueue.forEach(function(f) {f();});\n               window.letsPlotCallQueue = [];\n               \n               \n           };\n           script.onerror = function(event) {\n               window.letsPlotCall = function(f) {};\n               window.letsPlotCallQueue = [];\n               var div = document.createElement(\"div\");\n               div.style.color = 'darkred';\n               div.textContent = 'Error loading Lets-Plot JS';\n               document.getElementById(\"xq5ZJb\").appendChild(div);\n           };\n           var e = document.getElementById(\"xq5ZJb\");\n           e.appendChild(script);\n       })();\n   </script>"
     },
     "metadata": {},
     "output_type": "display_data"
    }
   ],
   "source": [
    "%use lets-plot, lets-plot-gt\n",
    "%useLatestDescriptors\n",
    "\n",
    "import com.apsl.glideapp.common.models.asPairs\n",
    "import org.jetbrains.letsPlot.ggsize\n",
    "import org.jetbrains.letsPlot.letsPlot\n",
    "import java.net.URL\n",
    "\n",
    "val xys = rides.map { it.route.points.asPairs().toList() }.flatten()\n",
    "val data = mapOf(\n",
    "    \"x\" to xys.map { it.second }, \"y\" to xys.map { it.first }\n",
    ")\n",
    "\n",
    "//val data = mapOf(\n",
    "//    \"rating\" to rides.map { it.route.points.as },\n",
    "//    \"cond\" to List(200) { \"A\" }\n",
    "//)\n",
    "\n",
    "var p = letsPlot(data)\n",
    "p += geomMap(color = \"dark_green\", alpha = .3) { x = \"x\"; y = \"y\" }\n",
    "p + ggsize(1000, 1000)\n",
    "\n",
    "//val xys = rides.map { it.route.points.asPairs().toList() }.flatten()\n",
    "\n",
    "//println(xs)\n",
    "//println(\"========================================\")\n",
    "//println(ys)\n",
    "\n",
    "//val factory = ShapefileDataStoreFactory()\n",
    "//\n",
    "//val worldFeatures : SimpleFeatureCollection = with(\"naturalearth_lowres\") {\n",
    "//    val url = \"https://raw.githubusercontent.com/JetBrains/lets-plot-kotlin/master/docs/examples/shp/${this}/${this}.shp\"\n",
    "//    factory.createDataStore(URL(url)).featureSource.features\n",
    "//}\n",
    "//\n",
    "//// Convert Feature Collection to SpatialDataset.\n",
    "//// Use 10 decimals to encode floating point numbers (this is the default).\n",
    "//val world = worldFeatures.toSpatialDataset(10)\n",
    "//\n",
    "//val data = mapOf(\n",
    "//    \"x\" to xys.map { it.second }, \"y\" to xys.map { it.first }\n",
    "//)\n",
    "//\n",
    "////val data = mapOf(\n",
    "////    \"rating\" to rides.map { it.route.points.as },\n",
    "////    \"cond\" to List(200) { \"A\" }\n",
    "////)\n",
    "//\n",
    "//var p = letsPlot(data)\n",
    "//p += geomMap(color = \"dark_green\", alpha = .3) { x = \"x\"; y = \"y\" }\n",
    "//p + ggsize(1000, 1000)"
   ],
   "metadata": {
    "collapsed": false,
    "is_executing": true,
    "ExecuteTime": {
     "start_time": "2023-11-10T21:10:39.726388900Z"
    }
   }
  },
  {
   "cell_type": "code",
   "execution_count": 6,
   "outputs": [],
   "source": [],
   "metadata": {
    "collapsed": false,
    "ExecuteTime": {
     "end_time": "2023-11-10T21:10:17.208140Z",
     "start_time": "2023-11-10T21:10:17.136766Z"
    }
   }
  }
 ],
 "metadata": {
  "kernelspec": {
   "display_name": "Kotlin",
   "language": "kotlin",
   "name": "kotlin"
  },
  "language_info": {
   "name": "kotlin",
   "version": "1.9.0",
   "mimetype": "text/x-kotlin",
   "file_extension": ".kt",
   "pygments_lexer": "kotlin",
   "codemirror_mode": "text/x-kotlin",
   "nbconvert_exporter": ""
  },
  "ktnbPluginMetadata": {
   "projectDependencies": [
    "glideapp-ktor.api.main"
   ]
  }
 },
 "nbformat": 4,
 "nbformat_minor": 0
}
